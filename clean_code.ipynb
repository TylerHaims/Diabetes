{
 "cells": [
  {
   "cell_type": "code",
   "execution_count": 1,
   "id": "078a075e-abe7-437f-8f45-13e6af851009",
   "metadata": {},
   "outputs": [],
   "source": [
    "import os\n",
    "import numpy as np\n",
    "import pandas as pd\n",
    "import matplotlib.pyplot as plt"
   ]
  },
  {
   "cell_type": "code",
   "execution_count": 12,
   "id": "0baeba29-1a33-4955-b1ab-2ab18f1f0d36",
   "metadata": {},
   "outputs": [],
   "source": [
    "def clean(folder):\n",
    "    # folder = os.path.join(os.getcwd(), folder)\n",
    "    \n",
    "    csvs = {}\n",
    "    for csv in os.listdir(folder):\n",
    "        file_path = os.path.join(folder, csv)\n",
    "        df = pd.read_csv(file_path)\n",
    "        mask = (df['GenHlth'].isin([77, 99])) | (df['MentHlth'].isin([77, 99])) | (df['PhysHlth'].isin([77, 99]))\n",
    "        df = df.drop(df[mask].index)\n",
    "        df.dropna(inplace=True)\n",
    "\n",
    "        csvs[csv] = df\n",
    "\n",
    "    out_folder = \"Cleaned\" + folder\n",
    "    os.makedirs(out_folder, exist_ok=True)\n",
    "\n",
    "    for csv, df in csvs.items():\n",
    "        csv = \"C_\" + csv\n",
    "        \n",
    "        # Construct the file path for the CSV file\n",
    "        out_file_path = os.path.join(out_folder, csv)\n",
    "        \n",
    "        # Save the DataFrame to a CSV file\n",
    "        df.to_csv(out_file_path, index=False)"
   ]
  },
  {
   "cell_type": "code",
   "execution_count": 13,
   "id": "98fddb82-0c1d-4250-81f6-8ad326a87ce4",
   "metadata": {},
   "outputs": [],
   "source": [
    "clean(\"Diabetes2015\")"
   ]
  },
  {
   "cell_type": "code",
   "execution_count": 14,
   "id": "8262e383-a17c-448c-a6fd-c7e9f7ea8c9e",
   "metadata": {},
   "outputs": [],
   "source": [
    "clean(\"Diabetes2021\")"
   ]
  }
 ],
 "metadata": {
  "kernelspec": {
   "display_name": "Python 3 (ipykernel)",
   "language": "python",
   "name": "python3"
  },
  "language_info": {
   "codemirror_mode": {
    "name": "ipython",
    "version": 3
   },
   "file_extension": ".py",
   "mimetype": "text/x-python",
   "name": "python",
   "nbconvert_exporter": "python",
   "pygments_lexer": "ipython3",
   "version": "3.12.2"
  }
 },
 "nbformat": 4,
 "nbformat_minor": 5
}
